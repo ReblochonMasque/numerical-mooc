{
 "metadata": {
  "name": "",
  "signature": "sha256:15a21577827dbbd903aa630a6f9aa5b2e2bfc0cd9524ec29f6e19ab6e5a07b1c"
 },
 "nbformat": 3,
 "nbformat_minor": 0,
 "worksheets": [
  {
   "cells": [
    {
     "cell_type": "raw",
     "metadata": {},
     "source": [
      "Copyright notice here ..."
     ]
    },
    {
     "cell_type": "code",
     "collapsed": false,
     "input": [
      "from IPython.core.display import HTML\n",
      "css_file = '../../styles/numericalmoocstyle.css'\n",
      "HTML(open(css_file, \"r\").read())"
     ],
     "language": "python",
     "metadata": {},
     "outputs": [
      {
       "html": [
        "<link href='http://fonts.googleapis.com/css?family=Alegreya+Sans:100,300,400,500,700,800,900,100italic,300italic,400italic,500italic,700italic,800italic,900italic' rel='stylesheet' type='text/css'>\n",
        "<link href='http://fonts.googleapis.com/css?family=Arvo:400,700,400italic' rel='stylesheet' type='text/css'>\n",
        "<link href='http://fonts.googleapis.com/css?family=PT+Mono' rel='stylesheet' type='text/css'>\n",
        "<link href='http://fonts.googleapis.com/css?family=Shadows+Into+Light' rel='stylesheet' type='text/css'>\n",
        "<link href='http://fonts.googleapis.com/css?family=Nixie+One' rel='stylesheet' type='text/css'>\n",
        "<style>\n",
        "\n",
        "@font-face {\n",
        "    font-family: \"Computer Modern\";\n",
        "    src: url('http://mirrors.ctan.org/fonts/cm-unicode/fonts/otf/cmunss.otf');\n",
        "}\n",
        "\n",
        "#notebook_panel { /* main background */\n",
        "    background: rgb(245,245,245);\n",
        "}\n",
        "\n",
        "div.cell { /* set cell width to about 80 chars */\n",
        "    width: 800px;\n",
        "}\n",
        "\n",
        "div #notebook { /* centre the content */\n",
        "    background: #fff; /* white background for content */\n",
        "    width: 1000px;\n",
        "    margin: auto;\n",
        "    padding-left: 1em;\n",
        "}\n",
        "\n",
        "#notebook li { /* More space between bullet points */\n",
        "margin-top:0.8em;\n",
        "}\n",
        "\n",
        "/* draw border around running cells */\n",
        "div.cell.border-box-sizing.code_cell.running { \n",
        "    border: 1px solid #111;\n",
        "}\n",
        "\n",
        "/* Put a solid color box around each cell and its output, visually linking them*/\n",
        "div.cell.code_cell {\n",
        "    background-color: rgb(256,256,256); \n",
        "    border-radius: 0px; \n",
        "    padding: 0.5em;\n",
        "    margin-top: 1em;\n",
        "}\n",
        "\n",
        "div.text_cell_render{\n",
        "    font-family: 'Alegreya Sans' sans-serif;\n",
        "    line-height: 140%;\n",
        "    font-size: 125%;\n",
        "    font-weight: 400;\n",
        "    width:600px;\n",
        "    margin-left:auto;\n",
        "    margin-right:auto;\n",
        "}\n",
        "\n",
        "\n",
        "/* Formatting for header cells */\n",
        ".text_cell_render h1 {\n",
        "    font-family: 'Nixie One', serif;\n",
        "    font-style:regular;\n",
        "    font-weight: 400;    \n",
        "    font-size: 45pt;\n",
        "    line-height: 100%;\n",
        "    color: rgb(0,51,102);\n",
        "    margin-bottom: 0.5em;\n",
        "    margin-top: 0.5em;\n",
        "    display: block;\n",
        "}\t\n",
        ".text_cell_render h2 {\n",
        "    font-family: 'Nixie One', serif;\n",
        "    font-weight: 400;\n",
        "    font-size: 30pt;\n",
        "    line-height: 100%;\n",
        "    color: rgb(0,51,102);\n",
        "    margin-bottom: 0.1em;\n",
        "    margin-top: 0.3em;\n",
        "    display: block;\n",
        "}\t\n",
        "\n",
        ".text_cell_render h3 {\n",
        "    font-family: 'Nixie One', serif;\n",
        "    margin-top:16px;\n",
        "\tfont-size: 22pt;\n",
        "    font-weight: 600;\n",
        "    margin-bottom: 3px;\n",
        "    font-style: regular;\n",
        "    color: rgb(95,92,72);\n",
        "}\n",
        "\n",
        ".text_cell_render h4 {\n",
        "    font-family: 'Nixie One', serif;\n",
        "}\n",
        "\n",
        ".text_cell_render h5 {\n",
        "    font-family: 'Arvo', sans-serif;\n",
        "    font-weight: 400;\n",
        "    font-size: 16pt;\n",
        "    color: grey;\n",
        "    font-style: italic;\n",
        "    margin-bottom: .1em;\n",
        "    margin-top: 0.1em;\n",
        "    display: block;\n",
        "}\n",
        "\n",
        ".text_cell_render h6 {\n",
        "    font-family: 'PT Mono', sans-serif;\n",
        "    font-weight: 300;\n",
        "    font-size: 9pt;\n",
        "    line-height: 100%;\n",
        "    color: grey;\n",
        "    margin-bottom: 1px;\n",
        "    margin-top: 1px;\n",
        "}\n",
        "\n",
        ".CodeMirror{\n",
        "        font-family: \"PT Mono\";\n",
        "        font-size: 90%;\n",
        "}\n",
        "\n",
        "</style>\n"
       ],
       "metadata": {},
       "output_type": "pyout",
       "prompt_number": 1,
       "text": [
        "<IPython.core.display.HTML at 0x10277cb50>"
       ]
      }
     ],
     "prompt_number": 1
    },
    {
     "cell_type": "heading",
     "level": 1,
     "metadata": {},
     "source": [
      "The Pendulum"
     ]
    },
    {
     "cell_type": "markdown",
     "metadata": {},
     "source": [
      "In this notebook we'll look at the motion of a rigid pendulum.\n",
      "The pendulum is assumed to be made of a mass $m$ attached to a rigid, massless rod of length $L$.  Its position is described by $\\theta(t)$, the angle between the rod and the vertical axis.  It moves under the force of gravity, with $g$ denoting the gravitational constant:\n",
      "![](figures/pendulum.png)\n"
     ]
    },
    {
     "cell_type": "markdown",
     "metadata": {},
     "source": [
      "As shown in the figure above, the gravitational force on the pendulum in the direction it can swing is $mg \\sin(\\theta(t))$.  Then the rotational version of Newton's second law (that force is equal to mass times acceleration) says:\n",
      "\n",
      "$$m L^2 \\theta''(t) = -mgL\\sin(\\theta(t))$$\n",
      "\n",
      "or\n",
      "\n",
      "$$\\theta''(t) = -(g/L) \\sin(\\theta(t))$$\n",
      "\n",
      "Let's rescale our units so that $g/L=1$.  Then our model is the second order differential equation\n",
      "\n",
      "$$\\theta''(t) = -\\sin(\\theta(t)).$$\n",
      "\n",
      "Finally, the pendulum will be subject to the force of friction, which we assume is proportional to its angular velocity $\\theta'(t)$ and acts in the opposite direction.  Thus we have\n",
      "\n",
      "$$\\theta''(t) = -\\sin(\\theta(t)) - \\mu \\theta'(t),$$\n",
      "\n",
      "where $\\mu$ is the coefficient of friction.\n",
      "\n",
      "In order to determine the motion of the pendulum, we'll also need to give an initial angle $\\theta(0) = \\theta_0$ and initial angular velocity $\\theta'(0) = \\omega_0$.\n",
      "\n",
      "Let's load the Python libraries and then discuss how to discretize the problem."
     ]
    },
    {
     "cell_type": "code",
     "collapsed": false,
     "input": [
      "import numpy \n",
      "import matplotlib.pyplot as plt\n",
      "from matplotlib import rcParams\n",
      "%matplotlib inline"
     ],
     "language": "python",
     "metadata": {},
     "outputs": [],
     "prompt_number": 72
    },
    {
     "cell_type": "heading",
     "level": 2,
     "metadata": {},
     "source": [
      "Discretization: Euler's method"
     ]
    },
    {
     "cell_type": "markdown",
     "metadata": {},
     "source": [
      "In this module we'll explore methods for approximately solving models like the one above.  In order to find an approxiate solution, we'll introduce a *grid* in time, with *grid points* $t_0, t_1, \\dots$ where $t_n = n \\Delta t$ and $\\Delta t$ is a small time increment (the *time step*).  The solution value at time $t_n$ is denoted by $\\theta_n$.\n",
      "\n",
      "The code below sets the final time `T` and the time increment `dt`. With those chosen, we calculate the number `N` of time steps that will be needed to reach the final time, and we initialize an array `t` containing all the discrete time values."
     ]
    },
    {
     "cell_type": "code",
     "collapsed": false,
     "input": [
      "T = 20.0\n",
      "dt = 0.01\n",
      "N = int(T/dt)\n",
      "t = numpy.linspace(0.0, T, N)"
     ],
     "language": "python",
     "metadata": {},
     "outputs": [],
     "prompt_number": 73
    },
    {
     "cell_type": "markdown",
     "metadata": {},
     "source": [
      "In order to solve the model numerically, we rewrite the single second-order differential equation as a pair of first-order equations.  We can do this by setting $\\omega(t) = \\theta'(t)$.  Then we have\n",
      "\n",
      "\\begin{align}\n",
      "\\theta'(t) & = \\omega(t) \\\\\n",
      "\\omega'(t) & = -\\sin(\\theta(t)) - \\mu \\omega(t).\n",
      "\\end{align}\n",
      "\n",
      "We can write this formally as\n",
      "\n",
      "$$u'(t) = f(u)$$\n",
      "\n",
      "if we define the vectors\n",
      "\n",
      "\\begin{align}\n",
      "u & = \\begin{pmatrix} \\theta \\\\ \\omega \\end{pmatrix} & f(u) & = \\begin{pmatrix} \\omega \\\\ -\\sin(\\theta) - \\mu \\omega \\end{pmatrix}.\n",
      "\\end{align}\n",
      "\n",
      "Notice that these equations tell us the slope of the functions $(\\theta, \\omega)$ in terms of the function values.  The simplest way to approximate the solution is to assume that the slope is constant.  That is, we make the approximation\n",
      "\n",
      "$$u(t + \\Delta t) = u(t) + \\Delta t u'(t) + {\\mathcal O}(\\Delta t^2) \\approx u(t) + \\Delta t f(u(t)).$$"
     ]
    },
    {
     "cell_type": "markdown",
     "metadata": {},
     "source": [
      "If we write $U_n$ to denote the approximate solution at time $t_n$:\n",
      "\n",
      "$$U_n \\approx u(t_n),$$\n",
      "\n",
      "then we can compute a sequence of approximate solutions by the formula\n",
      "\n",
      "$$U_{n+1} = U_n + \\Delta t f(U_n).$$\n",
      "\n",
      "This is known as **Euler's method** (sometimes as the **explicit Euler method** or **forward Euler method** to distinguish it from its implicit cousin whom we'll meet later).\n",
      "\n",
      "Written out fully for our model, Euler's method is\n",
      "\n",
      "\\begin{align}\n",
      "\\theta_{n+1} & = \\theta_n + \\Delta t \\omega_n \\\\\n",
      "\\omega_{n+1} & = \\omega_n + \\Delta t \\left(-\\sin(\\theta_n) - \\mu \\omega_n\\right).\n",
      "\\end{align}"
     ]
    },
    {
     "cell_type": "markdown",
     "metadata": {},
     "source": [
      "Type the code from the cells below into your own notebook, to use Euler's method to model the pendulum."
     ]
    },
    {
     "cell_type": "markdown",
     "metadata": {},
     "source": [
      "Let's set up the problem. We need to choose values for the model parameters: the friction coefficient, $\\mu$; the initial angle, $\\theta_0$ and the initial angular velocity, $\\omega_0$. Then we initialize an array that we'll use later on to hold the angle values at different times. "
     ]
    },
    {
     "cell_type": "code",
     "collapsed": false,
     "input": [
      "mu = 0.1          # friction coefficient\n",
      "\n",
      "# initial conditions\n",
      "theta0 = numpy.pi/4  # initial angle\n",
      "omega0 = 0.       # initial angular velocity\n",
      "\n",
      "U = numpy.array([theta0, omega0])\n",
      "\n",
      "# initialize an array to hold the changing angle values\n",
      "theta = numpy.zeros(N)\n",
      "theta[0] = theta0     # first element filled with initial condition"
     ],
     "language": "python",
     "metadata": {},
     "outputs": [],
     "prompt_number": 74
    },
    {
     "cell_type": "markdown",
     "metadata": {},
     "source": [
      "Now we'll march in time, using Euler's method:"
     ]
    },
    {
     "cell_type": "code",
     "collapsed": false,
     "input": [
      "# time-loop using Euler's method\n",
      "for n in range(N-1):\n",
      "    U = U + dt*numpy.array( [U[1],\n",
      "                          -numpy.sin(U[0])-mu*U[1]])\n",
      "    theta[n+1] = U[0]"
     ],
     "language": "python",
     "metadata": {},
     "outputs": [],
     "prompt_number": 75
    },
    {
     "cell_type": "markdown",
     "metadata": {},
     "source": [
      "Finally, let's plot the solution that we obtained for the angle $\\theta$ as a function of time."
     ]
    },
    {
     "cell_type": "code",
     "collapsed": false,
     "input": [
      "# plot the angle as a function of time\n",
      "rcParams.update({'font.size': 14})  # to make our labels more legible\n",
      "plt.figure(figsize=(10, 6))\n",
      "plt.grid(True)\n",
      "plt.xlabel('$t$')\n",
      "plt.ylabel(r'$\\theta$')\n",
      "plt.plot(t, theta);"
     ],
     "language": "python",
     "metadata": {},
     "outputs": [
      {
       "metadata": {},
       "output_type": "display_data",
       "png": "[encoded data removed]",
       "text": [
        "<matplotlib.figure.Figure at 0x10fbb44d0>"
       ]
      }
     ],
     "prompt_number": 76
    },
    {
     "cell_type": "heading",
     "level": 4,
     "metadata": {},
     "source": [
      "Challenge questions"
     ]
    },
    {
     "cell_type": "markdown",
     "metadata": {},
     "source": [
      "1. Based on your physical understanding, what should be the long-term behavior of the pendulum?\n",
      "2. Change the final time $T$ above to a much larger value.  Does the model behave as you predicted?\n",
      "3. Experiment with different values for $\\Delta t$ and $\\mu$.  Can you find any values for which the pendulum behaves in a non-physical way?"
     ]
    },
    {
     "cell_type": "heading",
     "level": 2,
     "metadata": {},
     "source": [
      "Linearization"
     ]
    },
    {
     "cell_type": "markdown",
     "metadata": {},
     "source": [
      "Do you recall the Taylor series for the sine function?  We can compute it using the Python package SymPy:"
     ]
    },
    {
     "cell_type": "code",
     "collapsed": false,
     "input": [
      "import sympy                     # Load the package\n",
      "sympy.init_printing()             # This makes the output look pretty\n",
      "thet = sympy.symbols('theta')   # Define a symbol, but don't override our variable theta\n",
      "\n",
      "sympy.series(sympy.sin(thet))"
     ],
     "language": "python",
     "metadata": {},
     "outputs": [
      {
       "latex": [
        "$$\\theta - \\frac{\\theta^{3}}{6} + \\frac{\\theta^{5}}{120} + \\mathcal{O}\\left(\\theta^{6}\\right)$$"
       ],
       "metadata": {},
       "output_type": "pyout",
       "png": "[encoded data removed]",
       "prompt_number": 77,
       "text": [
        "     3     5        \n",
        "    \u03b8     \u03b8     \u239b 6\u239e\n",
        "\u03b8 - \u2500\u2500 + \u2500\u2500\u2500 + O\u239d\u03b8 \u23a0\n",
        "    6    120        "
       ]
      }
     ],
     "prompt_number": 77
    },
    {
     "cell_type": "markdown",
     "metadata": {},
     "source": [
      "By taking just the first term, we have $$\\sin(\\theta) \\approx \\theta.$$  Under this approximation, our model becomes\n",
      "\n",
      "$$\\theta''(t) = - \\theta(t) - \\mu \\theta'(t).$$"
     ]
    },
    {
     "cell_type": "heading",
     "level": 5,
     "metadata": {},
     "source": [
      "Exercise"
     ]
    },
    {
     "cell_type": "markdown",
     "metadata": {},
     "source": [
      "With pencil and paper, write this as a first-order system and write down the discretization of it with Euler's method.  Then modify the code in your notebook to solve the linearized model."
     ]
    },
    {
     "cell_type": "code",
     "collapsed": false,
     "input": [
      "# initial conditions\n",
      "U = numpy.array([theta0,omega0])\n",
      "\n",
      "# initialize an array to hold the changing angle values\n",
      "theta = numpy.zeros(N)\n",
      "theta[0] = U[0]     # first element filled with initial condition\n",
      "\n",
      "# time loop\n",
      "for n in range(N-1):\n",
      "    ### modify to solve the linearized model ###\n",
      "    U = U + dt*numpy.array( [U[1], -U[0]-mu*U[1]])\n",
      "    \n",
      "    theta[n+1] = U[0]    # store the angle at time-step n+1\n",
      "\n",
      "# plot the angle as a function of time\n",
      "rcParams.update({'font.size': 14})  # to make our labels more legible\n",
      "plt.figure(figsize=(10, 6))\n",
      "plt.grid(True)\n",
      "plt.xlabel('$t$')\n",
      "plt.ylabel(r'$\\theta$')\n",
      "plt.plot(t, theta);"
     ],
     "language": "python",
     "metadata": {},
     "outputs": [
      {
       "metadata": {},
       "output_type": "display_data",
       "png": "[encoded data removed]",
       "text": [
        "<matplotlib.figure.Figure at 0x110ec5510>"
       ]
      }
     ],
     "prompt_number": 78
    },
    {
     "cell_type": "heading",
     "level": 2,
     "metadata": {},
     "source": [
      "Exact solution"
     ]
    },
    {
     "cell_type": "markdown",
     "metadata": {},
     "source": [
      "It's possible to work out the exact solution for our linearized pendulum model.  It turns out to have the form\n",
      "\n",
      "$$\\theta(t) = \\exp\\left(-\\frac{\\mu}{2} t\\right) \\left( B \\cos(\\gamma t) + C \\sin(\\gamma t) \\right),$$\n",
      "\n",
      "where \n",
      "\n",
      "$$\\gamma = \\sqrt{1 - \\frac{\\mu^2}{4}}$$\n",
      "\n",
      "and $B,C$ are determined from the initial conditions.  So far we've been using an initially stationary pendulum, i.e. $\\theta'(0)=0$."
     ]
    },
    {
     "cell_type": "heading",
     "level": 5,
     "metadata": {},
     "source": [
      "Exercise"
     ]
    },
    {
     "cell_type": "markdown",
     "metadata": {},
     "source": [
      "1. Determine values for $B$ and $C$ in terms of $\\theta_0, \\omega_0, \\mu$, and $\\gamma$.\n",
      "\n",
      "2.  In your notebook, program the exact solution and plot it together with your approximate solution.  How accurate is your solution?"
     ]
    },
    {
     "cell_type": "code",
     "collapsed": false,
     "input": [
      "### set the coefficients of the analytical solution ###\n",
      "gamma = numpy.sqrt(1.0-mu**2/4.0)\n",
      "B = theta0\n",
      "C = 1./gamma*(omega0+mu/2*B)\n",
      "\n",
      "# compute the analytical solution using Numpy functions exp(), cos() and sin() \n",
      "### to be implemented ###\n",
      "theta_exact = numpy.exp(-0.5*mu*t)*(B*numpy.cos(gamma*t)+C*numpy.sin(gamma*t))"
     ],
     "language": "python",
     "metadata": {},
     "outputs": [],
     "prompt_number": 79
    },
    {
     "cell_type": "code",
     "collapsed": false,
     "input": [
      "# plot the numerical and analytical solutions anf the angle\n",
      "rcParams.update({'font.size': 14})  # to make our labels more legible\n",
      "plt.figure(figsize=(10, 6))\n",
      "plt.grid(True)\n",
      "plt.xlabel(r'$t$')\n",
      "plt.ylabel(r'$\\theta$')\n",
      "plt.plot(t, theta, 'b-')\n",
      "plt.plot(t, theta_exact, 'r-')\n",
      "plt.legend(['numerical', 'analytical'], loc='best');"
     ],
     "language": "python",
     "metadata": {},
     "outputs": [
      {
       "metadata": {},
       "output_type": "display_data",
       "png": "[encoded data removed]",
       "text": [
        "<matplotlib.figure.Figure at 0x10fd1c9d0>"
       ]
      }
     ],
     "prompt_number": 80
    },
    {
     "cell_type": "heading",
     "level": 2,
     "metadata": {},
     "source": [
      "Convergence"
     ]
    },
    {
     "cell_type": "markdown",
     "metadata": {},
     "source": [
      "We say that a numerical method is **convergent** if the approximate solution tends to the exact solution as the **mesh spacing** ($\\Delta t$) tends to zero.  To make this statement precise, we need to compare the solutions in some norm, such as the $L_1$ norm.  We can define the error as\n",
      "\n",
      "$$ E = \\Delta t \\sum_{n=0}^N \\left|\\theta(t_n) - \\theta_n\\right|.$$"
     ]
    },
    {
     "cell_type": "heading",
     "level": 4,
     "metadata": {},
     "source": [
      "Challenge question:"
     ]
    },
    {
     "cell_type": "markdown",
     "metadata": {},
     "source": [
      "Why does the factor $\\Delta t$ appear in the definition above?"
     ]
    },
    {
     "cell_type": "heading",
     "level": 5,
     "metadata": {},
     "source": [
      "Exercise"
     ]
    },
    {
     "cell_type": "markdown",
     "metadata": {},
     "source": [
      "Using a `for`-loop, we are going to solve the equation using different time-increments. It will alow us to study how the error varies as we reduce $\\Delta t$. \n",
      "\n",
      "In the cell below, the variable `dt_values` contains the different time-increments for which the numerical solution of the linearized pendulum will be computed. For each time-increment, the numerical solution is stored in the `Numpy` array `theta_values`.\n",
      "\n",
      "Fill the cell below, discretizing the time using `Numpy` function ['linspace()'](http://docs.scipy.org/doc/numpy/reference/generated/numpy.linspace.html) and implement the Euler's scheme to compute the solution at the next time-step."
     ]
    },
    {
     "cell_type": "code",
     "collapsed": false,
     "input": [
      "# time-increment array\n",
      "dt_values = numpy.array([0.1, 0.05, 0.01, 0.005, 0.001, 0.0001])\n",
      "\n",
      "# array that will contain solution of each grid\n",
      "theta_values = numpy.empty_like(dt_values, dtype=numpy.ndarray)\n",
      "\n",
      "for i, dt in enumerate(dt_values):\n",
      "    N = int(T/dt)    # number of time-steps\n",
      "    ### discretize the time using numpy.linspace() ###\n",
      "    t = numpy.linspace(0.0, T, N)\n",
      "\n",
      "    # initial conditions\n",
      "    U = numpy.array([theta0, omega0])\n",
      "    theta = numpy.empty_like(t)\n",
      "    theta[0] = theta0\n",
      "    \n",
      "    # time loop - Euler method\n",
      "    for n in range(N-1):\n",
      "        ### compute next solution using Euler method ###\n",
      "        U = U + dt*numpy.array( [U[1], -U[0]-mu*U[1]])\n",
      "        \n",
      "        theta[n+1] = U[0]    # store the angle at time-step n+1\n",
      "    \n",
      "    theta_values[i] = theta    # store the angle over the time for grid i"
     ],
     "language": "python",
     "metadata": {},
     "outputs": [],
     "prompt_number": 81
    },
    {
     "cell_type": "markdown",
     "metadata": {},
     "source": [
      "So far, we have computed the analytical solution, and the numerical solution for different time-increments. We can now, compute the error, relative to the analytical solution, using the $L_1$-norm. Implement the code to compute the error in the function `get_error()` pre-defined in the cell below."
     ]
    },
    {
     "cell_type": "code",
     "collapsed": false,
     "input": [
      "def get_error(theta, theta_exact, dt):\n",
      "    \"\"\"Returns the error relative to analytical solution using L-1 norm.\n",
      "    \n",
      "    Arguments\n",
      "    ---------\n",
      "    theta -- numerical solution.\n",
      "    theta_exact -- analytical solution.\n",
      "    dt -- time increment.\n",
      "    \"\"\"\n",
      "    ### to be implemented ###\n",
      "    N = len(theta)\n",
      "    t = numpy.linspace(0.0, T, N)\n",
      "    theta_exact = numpy.exp(-0.5*mu*t)*(B*numpy.cos(gamma*t)+C*numpy.sin(gamma*t))\n",
      "    return dt * numpy.sum(numpy.abs(theta-theta_exact))"
     ],
     "language": "python",
     "metadata": {},
     "outputs": [],
     "prompt_number": 83
    },
    {
     "cell_type": "markdown",
     "metadata": {},
     "source": [
      "For each grid, call the function `get_error()` to compute the $L_1$-norm error."
     ]
    },
    {
     "cell_type": "code",
     "collapsed": false,
     "input": [
      "error_values = numpy.empty_like(dt_values)\n",
      "\n",
      "for i, dt in enumerate(dt_values):\n",
      "    ### call the function get_error() ###\n",
      "    error_values[i] = get_error(theta, theta_exact, dt)"
     ],
     "language": "python",
     "metadata": {},
     "outputs": [],
     "prompt_number": 84
    },
    {
     "cell_type": "markdown",
     "metadata": {},
     "source": [
      "Time to plot the rate of convergence in a *log-log* graph using the `matplotlib` function [`loglog()`](http://matplotlib.org/api/pyplot_api.html?highlight=loglog#matplotlib.pyplot.loglog)."
     ]
    },
    {
     "cell_type": "code",
     "collapsed": false,
     "input": [
      "plt.figure(figsize=(6, 6))\n",
      "plt.grid(True)\n",
      "plt.xlabel(r'$\\Delta t$')\n",
      "plt.ylabel(r'Error')\n",
      "plt.loglog(dt_values, error_values, 'bo-')\n",
      "plt.axis('equal');"
     ],
     "language": "python",
     "metadata": {},
     "outputs": [
      {
       "metadata": {},
       "output_type": "display_data",
       "png": "[encoded data removed]",
       "text": [
        "<matplotlib.figure.Figure at 0x10fcd85d0>"
       ]
      }
     ],
     "prompt_number": 85
    },
    {
     "cell_type": "markdown",
     "metadata": {},
     "source": [
      "Study how the error varies as you reduce $\\Delta t$. Is the method convergent?"
     ]
    },
    {
     "cell_type": "heading",
     "level": 2,
     "metadata": {},
     "source": [
      "Sources of error"
     ]
    },
    {
     "cell_type": "markdown",
     "metadata": {},
     "source": [
      "The error we have just studied is referred to as **discretization error**, since it arises when we take the continuous ODE model and reduce it to a discrete model that can be solved by a computer.  Relative to our original problem (the nonlinear pendulum) we also have the error introduced by linearizing the model.  This error is referred to as **modelling error**, since it is caused by a simplification in the model.\n",
      "\n",
      "**Extra credit**: Quantify the modelling error by computing a numerical solution of the nonlinear model, with a very small $\\Delta t$ and comparing that to your numerical solution of the linear model (with a more reasonable $\\Delta t$).  Can you determine how much of the overall error is due to modelling, and how much is due to discretization?"
     ]
    },
    {
     "cell_type": "code",
     "collapsed": false,
     "input": [
      "\"\"\"\n",
      "implements a pendulum in motion\n",
      "http://www.codeskulptor.org/#user37_K5AxExpZ04_4.py\n",
      "\"\"\"\n",
      "import math\n",
      "\n",
      "try:\n",
      "    import simplegui\n",
      "except:\n",
      "    import simpleguitk as simplegui\n",
      "\n",
      "HEIGHT = 600\n",
      "WIDTH = 600\n",
      "rod_length = 100\n",
      "ORIGIN = (WIDTH//2, HEIGHT//2)\n",
      "THETA = math.pi/2\n",
      "\n",
      "def ball_calc_coord():\n",
      "    global ORIGIN, THETA, rod_length\n",
      "    ball_coord = (math.cos(THETA)*rod_length + ORIGIN[0], \n",
      "                  math.sin(THETA)*rod_length + ORIGIN[1]) \n",
      "    return ball_coord\n",
      "\n",
      "def angular_change():\n",
      "    pass\n",
      "\n",
      "# Handler for mouse click\n",
      "def increase_rod_length():\n",
      "    global rod_length\n",
      "    rod_length += 10\n",
      "    if rod_length > 290:\n",
      "        rod_length = 290\n",
      "\n",
      "def decrease_rod_length():\n",
      "    global rod_length\n",
      "    rod_length -= 10\n",
      "    if rod_length < 20:\n",
      "        rod_length = 20\n",
      "        \n",
      "def increase_angle():\n",
      "    global THETA\n",
      "    THETA += 2*math.pi/90    # increase by 4 degrees\n",
      "    \n",
      "def decrease_angle():\n",
      "    global THETA\n",
      "    THETA -= 2*math.pi/90    # increase by 4 degrees  \n",
      "\n",
      "# Handler to draw on canvas\n",
      "def draw(canvas):\n",
      "    global rod_length, THETA\n",
      "    THETA -= .05\n",
      "    canvas.draw_line(ORIGIN, ball_calc_coord(), 3, \"Black\")\n",
      "    canvas.draw_circle(ball_calc_coord(), 10, 5, \"Black\")\n",
      "    canvas.draw_circle(ORIGIN, 5, 3, \"Red\")\n",
      "    \n",
      "# Create a frame and assign callbacks to event handlers\n",
      "frame = simplegui.create_frame(\"Home\", WIDTH, HEIGHT)\n",
      "frame.set_canvas_background('White')\n",
      "frame.add_button(\"increase rod length\", increase_rod_length)\n",
      "frame.add_button(\"decrease rod length\", decrease_rod_length)\n",
      "frame.add_button(\"increase_angle\", increase_angle)\n",
      "frame.add_button(\"decrease_angle\", decrease_angle)\n",
      "\n",
      "\n",
      "\n",
      "frame.set_draw_handler(draw)\n",
      "\n",
      "# Start the frame animation\n",
      "frame.start()\n"
     ],
     "language": "python",
     "metadata": {},
     "outputs": [
      {
       "ename": "SystemExit",
       "evalue": "0",
       "output_type": "pyerr",
       "traceback": [
        "An exception has occurred, use %tb to see the full traceback.\n",
        "\u001b[0;31mSystemExit\u001b[0m\u001b[0;31m:\u001b[0m 0\n"
       ]
      },
      {
       "output_type": "stream",
       "stream": "stderr",
       "text": [
        "To exit: use 'exit', 'quit', or Ctrl-D.\n"
       ]
      }
     ],
     "prompt_number": 86
    },
    {
     "cell_type": "code",
     "collapsed": false,
     "input": [
      "\"\"\"\n",
      "implements a ball in free fall in ideal conditions (no resistance)\n",
      "http://www.codeskulptor.org/#user37_K5AxExpZ04_1.py\n",
      "\"\"\"\n",
      "\n",
      "try:\n",
      "    import simplegui\n",
      "except:\n",
      "    import simpleguitk as simplegui\n",
      "\n",
      "HEIGHT = 600\n",
      "WIDTH = 600\n",
      "ball_height = 500\n",
      "ORIGIN = (WIDTH//2, 100)\n",
      "G = 8.81\n",
      "RELEASE = False\n",
      "TIME_PASSED = 0.0\n",
      "POS_N_moins_1 = ORIGIN[1]\n",
      "tick = 0.0\n",
      "STOP = 1\n",
      "\n",
      "def trajectory():\n",
      "    \"\"\"\n",
      "    returns the z coordinates for ball under G acceleration \n",
      "    every tick.\n",
      "    \"\"\"\n",
      "    global G, ORIGIN, TIME_PASSED, POS_N_moins_1, tick, STOP\n",
      "    POS_N_moins_1 += STOP * (G*TIME_PASSED**2)/2\n",
      "    if POS_N_moins_1 > 597 and tick != 0:\n",
      "        POS_N_moins_1 = 595\n",
      "        print 'TIME_PASSED', TIME_PASSED\n",
      "        tick = 0.0\n",
      "        RELEASE = False\n",
      "        STOP = 0\n",
      "    return POS_N_moins_1\n",
      "    \n",
      "# Handler for mouse click\n",
      "def release_ball():\n",
      "    global RELEASE, tick\n",
      "    RELEASE = True\n",
      "    tick = 1/20.\n",
      "\n",
      "def reset_experiment():\n",
      "    global RELEASE, ORIGIN, TIME_PASSED, POS_N_moins_1, STOP\n",
      "    RELEASE = False\n",
      "    ORIGIN = (WIDTH//2, 100)\n",
      "    TIME_PASSED = 0.0\n",
      "    POS_N_moins_1 = 100\n",
      "    STOP = 1\n",
      "    \n",
      "# Handler to draw on canvas\n",
      "def draw(canvas):\n",
      "    global rod_length, RELEASE, TIME_PASSED, tick\n",
      "\n",
      "    if not RELEASE:\n",
      "        canvas.draw_circle(ORIGIN, 5, 3, \"Red\")\n",
      "    else:\n",
      "        TIME_PASSED += tick\n",
      "        canvas.draw_circle((ORIGIN[0], trajectory()), 5, 3, \"BLACK\")\n",
      "    \n",
      "    \n",
      "    canvas.draw_line((0,HEIGHT), (WIDTH,HEIGHT) , 3, \"Black\")\n",
      "    \n",
      "# Create a frame and assign callbacks to event handlers\n",
      "frame = simplegui.create_frame(\"Home\", WIDTH, HEIGHT)\n",
      "frame.set_canvas_background('White')\n",
      "frame.add_button(\"release_ball\", release_ball)\n",
      "frame.add_button(\"reset experiment\", reset_experiment)\n",
      "\n",
      "frame.set_draw_handler(draw)\n",
      "\n",
      "# Start the frame animation\n",
      "frame.start()\n"
     ],
     "language": "python",
     "metadata": {},
     "outputs": [
      {
       "output_type": "stream",
       "stream": "stdout",
       "text": [
        "TIME_PASSED 2.55\n"
       ]
      },
      {
       "ename": "SystemExit",
       "evalue": "0",
       "output_type": "pyerr",
       "traceback": [
        "An exception has occurred, use %tb to see the full traceback.\n",
        "\u001b[0;31mSystemExit\u001b[0m\u001b[0;31m:\u001b[0m 0\n"
       ]
      },
      {
       "output_type": "stream",
       "stream": "stderr",
       "text": [
        "To exit: use 'exit', 'quit', or Ctrl-D.\n"
       ]
      }
     ],
     "prompt_number": 88
    },
    {
     "cell_type": "code",
     "collapsed": false,
     "input": [],
     "language": "python",
     "metadata": {},
     "outputs": [],
     "prompt_number": 28
    },
    {
     "cell_type": "code",
     "collapsed": false,
     "input": [],
     "language": "python",
     "metadata": {},
     "outputs": [],
     "prompt_number": 11
    },
    {
     "cell_type": "code",
     "collapsed": false,
     "input": [],
     "language": "python",
     "metadata": {},
     "outputs": [],
     "prompt_number": 11
    },
    {
     "cell_type": "code",
     "collapsed": false,
     "input": [],
     "language": "python",
     "metadata": {},
     "outputs": [],
     "prompt_number": 11
    },
    {
     "cell_type": "code",
     "collapsed": false,
     "input": [],
     "language": "python",
     "metadata": {},
     "outputs": []
    }
   ],
   "metadata": {}
  }
 ]
}